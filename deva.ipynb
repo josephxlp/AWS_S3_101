{
 "cells": [
  {
   "cell_type": "code",
   "execution_count": 3,
   "id": "3836ea12",
   "metadata": {},
   "outputs": [],
   "source": [
    "import boto3\n",
    "client = boto3.client('s3')\n",
    "\n",
    "response = client.list_buckets()"
   ]
  },
  {
   "cell_type": "code",
   "execution_count": 4,
   "id": "59b6243a",
   "metadata": {},
   "outputs": [
    {
     "data": {
      "text/plain": [
       "{'ResponseMetadata': {'RequestId': '5NYBZHEWVH7T1XV7',\n",
       "  'HostId': 'CS+GB3X3ND+a7I1MPN5UCfH8RwSGUkAcPv5q1VRJLhqqLHqGq7iTNRgNRlEIB0QuXFZ6KTnqdUs=',\n",
       "  'HTTPStatusCode': 200,\n",
       "  'HTTPHeaders': {'x-amz-id-2': 'CS+GB3X3ND+a7I1MPN5UCfH8RwSGUkAcPv5q1VRJLhqqLHqGq7iTNRgNRlEIB0QuXFZ6KTnqdUs=',\n",
       "   'x-amz-request-id': '5NYBZHEWVH7T1XV7',\n",
       "   'date': 'Sat, 05 Jul 2025 14:06:54 GMT',\n",
       "   'content-type': 'application/xml',\n",
       "   'transfer-encoding': 'chunked',\n",
       "   'server': 'AmazonS3'},\n",
       "  'RetryAttempts': 0},\n",
       " 'Buckets': [{'Name': 'example-4-user-a',\n",
       "   'CreationDate': datetime.datetime(2025, 7, 5, 13, 59, 27, tzinfo=tzutc())}],\n",
       " 'Owner': {'DisplayName': 'jexeterx',\n",
       "  'ID': '10553d2e2ff697d6842335c0974ff6a6d59f2c79273abf6f5941fd54d049dbb8'}}"
      ]
     },
     "execution_count": 4,
     "metadata": {},
     "output_type": "execute_result"
    }
   ],
   "source": [
    "response"
   ]
  },
  {
   "cell_type": "code",
   "execution_count": 5,
   "id": "84f043e9",
   "metadata": {},
   "outputs": [
    {
     "name": "stdout",
     "output_type": "stream",
     "text": [
      "example-4-user-a\n"
     ]
    }
   ],
   "source": [
    "for b in response['Buckets']:\n",
    "    print(b['Name'])"
   ]
  },
  {
   "cell_type": "code",
   "execution_count": null,
   "id": "6cd7e7ce",
   "metadata": {},
   "outputs": [],
   "source": []
  }
 ],
 "metadata": {
  "kernelspec": {
   "display_name": "madewithml",
   "language": "python",
   "name": "python3"
  },
  "language_info": {
   "codemirror_mode": {
    "name": "ipython",
    "version": 3
   },
   "file_extension": ".py",
   "mimetype": "text/x-python",
   "name": "python",
   "nbconvert_exporter": "python",
   "pygments_lexer": "ipython3",
   "version": "3.10.0"
  }
 },
 "nbformat": 4,
 "nbformat_minor": 5
}
