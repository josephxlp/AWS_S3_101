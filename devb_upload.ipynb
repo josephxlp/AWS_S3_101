{
 "cells": [
  {
   "cell_type": "code",
   "execution_count": 1,
   "id": "93166e69",
   "metadata": {},
   "outputs": [],
   "source": [
    "import os  \n",
    "import boto3 "
   ]
  },
  {
   "cell_type": "code",
   "execution_count": 2,
   "id": "a7fae6fa",
   "metadata": {},
   "outputs": [],
   "source": [
    "client = boto3.client('s3') \n",
    "bucket = 'example-4-user-a'\n",
    "filepath = r\"c:\\Users\\Joseph\\Downloads\\Richard Menza.png\"\n",
    "filename = os.path.basename(filepath)"
   ]
  },
  {
   "cell_type": "code",
   "execution_count": 3,
   "id": "55b2a866",
   "metadata": {},
   "outputs": [
    {
     "data": {
      "text/plain": [
       "'Richard Menza.png'"
      ]
     },
     "execution_count": 3,
     "metadata": {},
     "output_type": "execute_result"
    }
   ],
   "source": [
    "filename"
   ]
  },
  {
   "cell_type": "code",
   "execution_count": 4,
   "id": "2be4f9cb",
   "metadata": {},
   "outputs": [],
   "source": [
    "client.upload_file(filepath, bucket, filename)"
   ]
  },
  {
   "cell_type": "code",
   "execution_count": null,
   "id": "77a5f115",
   "metadata": {},
   "outputs": [],
   "source": []
  }
 ],
 "metadata": {
  "kernelspec": {
   "display_name": "madewithml",
   "language": "python",
   "name": "python3"
  },
  "language_info": {
   "codemirror_mode": {
    "name": "ipython",
    "version": 3
   },
   "file_extension": ".py",
   "mimetype": "text/x-python",
   "name": "python",
   "nbconvert_exporter": "python",
   "pygments_lexer": "ipython3",
   "version": "3.10.0"
  }
 },
 "nbformat": 4,
 "nbformat_minor": 5
}
