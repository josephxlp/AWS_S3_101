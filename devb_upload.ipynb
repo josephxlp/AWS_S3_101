{
 "cells": [
  {
   "cell_type": "code",
   "execution_count": 1,
   "id": "93166e69",
   "metadata": {},
   "outputs": [],
   "source": [
    "import os  \n",
    "import boto3 "
   ]
  },
  {
   "cell_type": "code",
   "execution_count": 2,
   "id": "a7fae6fa",
   "metadata": {},
   "outputs": [],
   "source": [
    "client = boto3.client('s3') \n",
    "bucket = 'example-4-user-a'\n",
    "filepath = r\"c:\\Users\\Joseph\\Downloads\\Richard Menza.png\"\n",
    "filename = os.path.basename(filepath)"
   ]
  },
  {
   "cell_type": "code",
   "execution_count": 3,
   "id": "55b2a866",
   "metadata": {},
   "outputs": [
    {
     "data": {
      "text/plain": [
       "'Richard Menza.png'"
      ]
     },
     "execution_count": 3,
     "metadata": {},
     "output_type": "execute_result"
    }
   ],
   "source": [
    "filename"
   ]
  },
  {
   "cell_type": "code",
   "execution_count": 4,
   "id": "2be4f9cb",
   "metadata": {},
   "outputs": [],
   "source": [
    "client.upload_file(filepath, bucket, filename)"
   ]
  },
  {
   "cell_type": "markdown",
   "id": "f59053be",
   "metadata": {},
   "source": [
    "#create bucket"
   ]
  },
  {
   "cell_type": "code",
   "execution_count": 6,
   "id": "77a5f115",
   "metadata": {},
   "outputs": [
    {
     "name": "stdout",
     "output_type": "stream",
     "text": [
      "Bucket 'exampleb-4-user-a' already exists.\n"
     ]
    }
   ],
   "source": [
    "import boto3\n",
    "from botocore.exceptions import ClientError\n",
    "\n",
    "def bucket_exists(s3_client, bucket_name):\n",
    "    try:\n",
    "        s3_client.head_bucket(Bucket=bucket_name)\n",
    "        return True\n",
    "    except ClientError as e:\n",
    "        error_code = int(e.response['Error']['Code'])\n",
    "        if error_code == 404:\n",
    "            return False\n",
    "        elif error_code == 403:\n",
    "            print(f\"Access denied to bucket '{bucket_name}', but it exists.\")\n",
    "            return True\n",
    "        else:\n",
    "            raise\n",
    "\n",
    "def create_bucket_if_not_exists(bucket_name, region='eu-west-2'):  # London by default\n",
    "    s3 = boto3.client('s3', region_name=region)\n",
    "\n",
    "    if bucket_exists(s3, bucket_name):\n",
    "        print(f\"Bucket '{bucket_name}' already exists.\")\n",
    "        return\n",
    "\n",
    "    try:\n",
    "        if region == 'us-east-1':\n",
    "            s3.create_bucket(Bucket=bucket_name)\n",
    "        else:\n",
    "            s3.create_bucket(\n",
    "                Bucket=bucket_name,\n",
    "                CreateBucketConfiguration={'LocationConstraint': region}\n",
    "            )\n",
    "        print(f\"Bucket '{bucket_name}' created in region '{region}'.\")\n",
    "    except ClientError as e:\n",
    "        print(f\"Failed to create bucket: {e}\")\n",
    "\n",
    "# Usage\n",
    "create_bucket_if_not_exists('exampleb-4-user-a')\n"
   ]
  },
  {
   "cell_type": "code",
   "execution_count": 7,
   "id": "21f3e690",
   "metadata": {},
   "outputs": [
    {
     "name": "stdout",
     "output_type": "stream",
     "text": [
      "Bucket 'examplec-4-user-a' created in region 'eu-west-2'.\n"
     ]
    }
   ],
   "source": [
    "create_bucket_if_not_exists('examplec-4-user-a')"
   ]
  },
  {
   "cell_type": "code",
   "execution_count": 8,
   "id": "93d6577c",
   "metadata": {},
   "outputs": [],
   "source": [
    "client.upload_file(filepath, 'examplec-4-user-a', filename)"
   ]
  },
  {
   "cell_type": "code",
   "execution_count": null,
   "id": "205e18b3",
   "metadata": {},
   "outputs": [],
   "source": []
  }
 ],
 "metadata": {
  "kernelspec": {
   "display_name": "madewithml",
   "language": "python",
   "name": "python3"
  },
  "language_info": {
   "codemirror_mode": {
    "name": "ipython",
    "version": 3
   },
   "file_extension": ".py",
   "mimetype": "text/x-python",
   "name": "python",
   "nbconvert_exporter": "python",
   "pygments_lexer": "ipython3",
   "version": "3.10.0"
  }
 },
 "nbformat": 4,
 "nbformat_minor": 5
}
